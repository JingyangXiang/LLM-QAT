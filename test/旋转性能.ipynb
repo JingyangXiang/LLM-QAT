{
 "cells": [
  {
   "cell_type": "code",
   "execution_count": 32,
   "id": "f09ac49d-864a-4fac-9f0b-bfef30335c6c",
   "metadata": {
    "ExecuteTime": {
     "end_time": "2024-07-11T02:20:29.802590Z",
     "start_time": "2024-07-11T02:20:29.798921Z"
    }
   },
   "outputs": [],
   "source": [
    "import time\n",
    "import torch\n",
    "import torch.nn as nn\n",
    "from einops import einsum, rearrange\n",
    "\n",
    "iter_num = 20\n",
    "device = 'mps'\n",
    "if device == 'mps':\n",
    "    func = torch.mps.synchronize\n",
    "else:\n",
    "    func = torch.cpu.synchronize\n",
    "\n",
    "\n",
    "num = 10\n",
    "N1_ = 2 ** num\n",
    "N2_ = 1"
   ]
  },
  {
   "cell_type": "markdown",
   "source": [
    "# TensorCore是不是比较喜欢做那种, 扁矩阵的乘法(似乎是的)"
   ],
   "metadata": {
    "collapsed": false
   },
   "id": "a3b1f974386061db"
  },
  {
   "cell_type": "code",
   "execution_count": 35,
   "id": "381e5e92-33ec-4d58-b962-f68e2fc6eec6",
   "metadata": {
    "editable": true,
    "slideshow": {
     "slide_type": ""
    },
    "tags": [],
    "ExecuteTime": {
     "end_time": "2024-07-11T02:30:25.721416Z",
     "start_time": "2024-07-11T02:30:21.487433Z"
    }
   },
   "outputs": [
    {
     "name": "stdout",
     "output_type": "stream",
     "text": [
      "N1: 1, N2: 1024\n",
      "time: 0.014331340789794922\n",
      "time: 0.07174801826477051\n",
      "time: 0.07397580146789551\n",
      "3.0517578125e-05\n",
      "N1: 2, N2: 512\n",
      "time: 0.014024019241333008\n",
      "time: 0.02248215675354004\n",
      "time: 0.022209882736206055\n",
      "0.0001068115234375\n",
      "N1: 4, N2: 256\n",
      "time: 0.01253819465637207\n",
      "time: 0.02038407325744629\n",
      "time: 0.020218849182128906\n",
      "0.0003204345703125\n",
      "N1: 8, N2: 128\n",
      "time: 0.012588024139404297\n",
      "time: 0.041749000549316406\n",
      "time: 0.04278898239135742\n",
      "0.0003204345703125\n",
      "N1: 16, N2: 64\n",
      "time: 0.012185811996459961\n",
      "time: 0.0270688533782959\n",
      "time: 0.019181251525878906\n",
      "0.00022125244140625\n",
      "N1: 32, N2: 32\n",
      "time: 0.01222681999206543\n",
      "time: 0.015288114547729492\n",
      "time: 0.016564130783081055\n",
      "0.0002593994140625\n",
      "N1: 64, N2: 16\n",
      "time: 0.012888908386230469\n",
      "time: 0.020623207092285156\n",
      "time: 0.02318406105041504\n",
      "0.0002593994140625\n",
      "N1: 128, N2: 8\n",
      "time: 0.013580083847045898\n",
      "time: 0.05196881294250488\n",
      "time: 0.05097794532775879\n",
      "0.00030517578125\n",
      "N1: 256, N2: 4\n",
      "time: 0.012922048568725586\n",
      "time: 0.05341005325317383\n",
      "time: 0.05140519142150879\n",
      "0.0003204345703125\n",
      "N1: 512, N2: 2\n",
      "time: 0.012166976928710938\n",
      "time: 0.057625770568847656\n",
      "time: 0.057805776596069336\n",
      "0.00014495849609375\n",
      "N1: 1024, N2: 1\n",
      "time: 0.012464046478271484\n",
      "time: 0.09222602844238281\n",
      "time: 0.08734488487243652\n",
      "7.2479248046875e-05\n"
     ]
    }
   ],
   "source": [
    "for i in range(num + 1):\n",
    "    N2 = N1_ // (2 ** i)\n",
    "    N1 = N2_ * (2 ** i)\n",
    "    print(f\"N1: {N1}, N2: {N2}\")\n",
    "    R1 = torch.randn(N1, N1, device=device, dtype=torch.float32)\n",
    "    R2 = torch.randn(N2, N2, device=device, dtype=torch.float32)\n",
    "    # 权重的形状是(C_out, C_in)\n",
    "    weight = torch.randn(N1 * N2, N1 * N2, device=device, dtype=torch.float32)\n",
    "    \n",
    "    # # 在沿着输入维度旋转的操作\n",
    "    with torch.inference_mode():\n",
    "        Q = torch.kron(R1, R2)\n",
    "        # print(20 * '==')\n",
    "        for _ in range(3):\n",
    "            start = time.time()\n",
    "            for _ in range(iter_num):\n",
    "                output_baseline = weight @ Q\n",
    "            func()\n",
    "        print(f\"time: {time.time() - start}\")\n",
    "        \n",
    "        # print(20 * '==')\n",
    "        for _ in range(3):\n",
    "            start = time.time()\n",
    "            for _ in range(iter_num):\n",
    "                output2 = torch.einsum('ij,aik,km->ajm', R1, rearrange(weight, 'b (h c)->b h c', h=N1), R2).reshape(N1 * N2, -1)\n",
    "            func()\n",
    "        print(f\"time: {time.time() - start}\")\n",
    "        \n",
    "        # print(20 * '==')\n",
    "        for _ in range(3):\n",
    "            start = time.time()\n",
    "            for _ in range(iter_num):\n",
    "                output3 = einsum(R1, rearrange(weight, 'b (h c)->b h c', h=N1), R2, 'i j, a i k, k m -> a j m').reshape(N1 * N2, -1)\n",
    "            func()\n",
    "        print(f\"time: {time.time() - start}\")\n",
    "        \n",
    "        # print(output_baseline.shape, output2.shape, output3.shape)\n",
    "        print((output_baseline - output2).abs().max().detach().cpu().item())\n",
    "        # # 目测爱因斯坦\n",
    "        # print((output3 - output2).abs().max())\n",
    "        # print(output_baseline.sum(), output2.sum(), output3.sum())"
   ]
  },
  {
   "cell_type": "code",
   "outputs": [],
   "source": [],
   "metadata": {
    "collapsed": false
   },
   "id": "877dc0d10ec68273"
  }
 ],
 "metadata": {
  "kernelspec": {
   "display_name": "Python 3 (ipykernel)",
   "language": "python",
   "name": "python3"
  },
  "language_info": {
   "codemirror_mode": {
    "name": "ipython",
    "version": 3
   },
   "file_extension": ".py",
   "mimetype": "text/x-python",
   "name": "python",
   "nbconvert_exporter": "python",
   "pygments_lexer": "ipython3",
   "version": "3.9.19"
  }
 },
 "nbformat": 4,
 "nbformat_minor": 5
}
