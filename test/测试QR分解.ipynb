{
 "cells": [
  {
   "cell_type": "code",
   "execution_count": 57,
   "id": "a2d931e6a5a49d6e",
   "metadata": {
    "ExecuteTime": {
     "end_time": "2024-07-10T11:39:33.089786Z",
     "start_time": "2024-07-10T11:39:32.140864Z"
    },
    "collapsed": false,
    "jupyter": {
     "outputs_hidden": false
    }
   },
   "outputs": [],
   "source": [
    "import torch\n",
    "import torch.nn.functional as F"
   ]
  },
  {
   "cell_type": "code",
   "execution_count": 58,
   "id": "8decac0a292fc182",
   "metadata": {
    "ExecuteTime": {
     "end_time": "2024-07-10T11:39:33.135140Z",
     "start_time": "2024-07-10T11:39:33.090840Z"
    },
    "collapsed": false,
    "jupyter": {
     "outputs_hidden": false
    }
   },
   "outputs": [
    {
     "name": "stdout",
     "output_type": "stream",
     "text": [
      "tensor([[-0.6768,  0.1861,  0.3390,  0.6265],\n",
      "        [-0.3568, -0.6498, -0.6518,  0.1601],\n",
      "        [-0.2035,  0.7336, -0.6421, -0.0903],\n",
      "        [ 0.6109,  0.0709, -0.2191,  0.7575]])\n",
      "Q: torch.Size([4, 4])R: torch.Size([4, 4])\n",
      "tensor([[ 1.0000e+00, -9.5328e-08, -2.9728e-08,  6.5487e-08],\n",
      "        [-9.5328e-08,  1.0000e+00, -2.4068e-08,  3.0310e-08],\n",
      "        [-2.9728e-08, -2.4068e-08,  1.0000e+00,  1.0175e-08],\n",
      "        [ 6.5487e-08,  3.0310e-08,  1.0175e-08,  1.0000e+00]])\n",
      "tensor([[ 1.0000e+00, -3.2256e-09,  8.2839e-09, -4.3444e-08],\n",
      "        [-3.2256e-09,  1.0000e+00,  4.6191e-08,  5.9798e-09],\n",
      "        [ 8.2839e-09,  4.6191e-08,  1.0000e+00,  4.1770e-08],\n",
      "        [-4.3444e-08,  5.9798e-09,  4.1770e-08,  1.0000e+00]])\n"
     ]
    }
   ],
   "source": [
    "shape1, shape2 = 4, 4\n",
    "data = torch.randn(shape1, shape2)\n",
    "q, r = torch.linalg.qr(data)\n",
    "print(q, \"\\n\", f\"Q: {q.shape}\", f\"R: {r.shape}\", sep='')\n",
    "print(q @ q.t())\n",
    "print(q.t() @ q)"
   ]
  },
  {
   "cell_type": "code",
   "execution_count": 59,
   "id": "c5f06059d6e0e509",
   "metadata": {
    "ExecuteTime": {
     "end_time": "2024-07-10T11:39:33.140651Z",
     "start_time": "2024-07-10T11:39:33.136209Z"
    },
    "collapsed": false,
    "jupyter": {
     "outputs_hidden": false
    }
   },
   "outputs": [
    {
     "name": "stdout",
     "output_type": "stream",
     "text": [
      "tensor([[-0.3777,  0.7115,  0.0663,  0.2113],\n",
      "        [-0.7097, -0.1668,  0.5128, -0.4194],\n",
      "        [-0.5241, -0.3321, -0.3152,  0.6998],\n",
      "        [-0.1481,  0.5462, -0.4181, -0.1974],\n",
      "        [ 0.2390,  0.2394,  0.6771,  0.5008]])\n",
      "Q: torch.Size([5, 4])R: torch.Size([4, 4])\n",
      "tensor([[ 0.6979,  0.0947,  0.0886,  0.3752,  0.2307],\n",
      "        [ 0.0947,  0.9703, -0.0278, -0.1176, -0.0724],\n",
      "        [ 0.0886, -0.0278,  0.9740, -0.1101, -0.0677],\n",
      "        [ 0.3752, -0.1176, -0.1101,  0.5340, -0.2866],\n",
      "        [ 0.2307, -0.0724, -0.0677, -0.2866,  0.8237]])\n",
      "tensor([[ 1.0000e+00, -1.2747e-07, -3.7728e-08, -9.6523e-08],\n",
      "        [-1.2747e-07,  1.0000e+00,  7.6257e-08,  1.3010e-08],\n",
      "        [-3.7728e-08,  7.6257e-08,  1.0000e+00, -8.0930e-08],\n",
      "        [-9.6523e-08,  1.3010e-08, -8.0930e-08,  1.0000e+00]])\n"
     ]
    }
   ],
   "source": [
    "shape1, shape2 = 5, 4\n",
    "data = torch.randn(shape1, shape2)\n",
    "q, r = torch.linalg.qr(data)\n",
    "print(q, \"\\n\", f\"Q: {q.shape}\", f\"R: {r.shape}\", sep='')\n",
    "print(q @ q.t())\n",
    "print(q.t() @ q)"
   ]
  },
  {
   "cell_type": "code",
   "execution_count": 60,
   "id": "51996f4629c519e3",
   "metadata": {
    "ExecuteTime": {
     "end_time": "2024-07-10T11:39:33.147284Z",
     "start_time": "2024-07-10T11:39:33.142544Z"
    },
    "collapsed": false,
    "jupyter": {
     "outputs_hidden": false
    }
   },
   "outputs": [
    {
     "name": "stdout",
     "output_type": "stream",
     "text": [
      "tensor([[-0.0617, -0.9570,  0.0815,  0.2716],\n",
      "        [ 0.2440, -0.0542,  0.8819, -0.3998],\n",
      "        [-0.4032, -0.2359, -0.2828, -0.8378],\n",
      "        [ 0.8798, -0.1602, -0.3684, -0.2540]])\n",
      "Q: torch.Size([4, 4])R: torch.Size([4, 20])\n",
      "tensor([[ 1.0000e+00,  3.9038e-08, -5.8699e-08, -1.5726e-07],\n",
      "        [ 3.9038e-08,  1.0000e+00, -1.0378e-07, -5.2362e-08],\n",
      "        [-5.8699e-08, -1.0378e-07,  1.0000e+00,  7.1223e-08],\n",
      "        [-1.5726e-07, -5.2362e-08,  7.1223e-08,  1.0000e+00]])\n",
      "tensor([[ 1.0000e+00,  9.7750e-08, -1.2295e-08, -6.3991e-08],\n",
      "        [ 9.7750e-08,  1.0000e+00, -5.6131e-08, -6.0215e-08],\n",
      "        [-1.2295e-08, -5.6131e-08,  1.0000e+00,  9.6916e-08],\n",
      "        [-6.3991e-08, -6.0215e-08,  9.6916e-08,  1.0000e+00]])\n"
     ]
    }
   ],
   "source": [
    "shape1, shape2 = 4, 20\n",
    "data = torch.randn(shape1, shape2)\n",
    "q, r = torch.linalg.qr(data)\n",
    "print(q, \"\\n\", f\"Q: {q.shape}\", f\"R: {r.shape}\", sep='')\n",
    "print(q @ q.t())\n",
    "print(q.t() @ q)"
   ]
  },
  {
   "cell_type": "code",
   "execution_count": 61,
   "id": "8c9465d51aebebd4",
   "metadata": {
    "ExecuteTime": {
     "end_time": "2024-07-10T11:39:33.154356Z",
     "start_time": "2024-07-10T11:39:33.148389Z"
    },
    "collapsed": false,
    "jupyter": {
     "outputs_hidden": false
    }
   },
   "outputs": [
    {
     "name": "stdout",
     "output_type": "stream",
     "text": [
      "Q: torch.Size([4, 4])\n",
      "R: torch.Size([4, 4])\n",
      "tensor([[-0.4147, -0.6200,  0.0565,  0.6637],\n",
      "        [ 0.8282, -0.5588,  0.0425, -0.0080],\n",
      "        [-0.3029, -0.4837, -0.5682, -0.5928],\n",
      "        [ 0.2243,  0.2636, -0.8198,  0.4562]])\n",
      "tensor([[ 0.8676, -1.5700,  0.8236,  0.5611],\n",
      "        [ 0.0000, -2.8724,  2.0176,  0.5190],\n",
      "        [ 0.0000,  0.0000, -1.7756, -0.6848],\n",
      "        [ 0.0000,  0.0000,  0.0000, -0.1680]])\n",
      "tensor([1.0000, 1.0000, 1.0000, 1.0000])\n",
      "Q: torch.Size([4, 4])\n",
      "R: torch.Size([4, 4])\n",
      "tensor([[-0.4147, -0.6200,  0.0565,  0.6637],\n",
      "        [ 0.8282, -0.5588,  0.0425, -0.0080],\n",
      "        [-0.3029, -0.4837, -0.5682, -0.5928],\n",
      "        [ 0.2243,  0.2636, -0.8198,  0.4562]])\n",
      "tensor([[ 1.0000e+00,  7.0471e-08, -3.2305e-08, -8.2549e-08],\n",
      "        [ 0.0000e+00,  1.0000e+00, -2.9692e-08, -1.0787e-08],\n",
      "        [ 0.0000e+00,  0.0000e+00,  1.0000e+00,  3.5784e-08],\n",
      "        [ 0.0000e+00,  0.0000e+00,  0.0000e+00,  1.0000e+00]])\n",
      "tensor([1.0000, 1.0000, 1.0000, 1.0000])\n"
     ]
    }
   ],
   "source": [
    "import torch.nn as nn\n",
    "shape1, shape2 = 4, 4\n",
    "data = torch.randn(shape1, shape2)\n",
    "q, r = torch.linalg.qr(data)\n",
    "print(f\"Q: {q.shape}\", '\\n', f\"R: {r.shape}\", sep='')\n",
    "print(q)\n",
    "print(r)\n",
    "print(torch.norm(q, dim=-1))\n",
    "\n",
    "q, r = torch.linalg.qr(q)\n",
    "print(f\"Q: {q.shape}\", '\\n', f\"R: {r.shape}\", sep='')\n",
    "print(q)\n",
    "print(r)\n",
    "print(torch.norm(q, dim=-1))"
   ]
  },
  {
   "cell_type": "code",
   "execution_count": 62,
   "id": "487ee14be621074f",
   "metadata": {
    "ExecuteTime": {
     "end_time": "2024-07-10T11:39:33.162663Z",
     "start_time": "2024-07-10T11:39:33.155326Z"
    },
    "collapsed": false,
    "jupyter": {
     "outputs_hidden": false
    }
   },
   "outputs": [
    {
     "name": "stdout",
     "output_type": "stream",
     "text": [
      "Q: torch.Size([4, 4])\n",
      "R: torch.Size([4, 4])\n",
      "tensor([[-0.4147, -0.6200,  0.0565,  0.6637],\n",
      "        [ 0.8282, -0.5588,  0.0425, -0.0080],\n",
      "        [-0.3029, -0.4837, -0.5682, -0.5928],\n",
      "        [ 0.2243,  0.2636, -0.8198,  0.4562]])\n",
      "tensor([[ 1.0000e+00,  7.0471e-08, -3.2305e-08, -8.2549e-08],\n",
      "        [ 0.0000e+00,  1.0000e+00, -2.9692e-08, -1.0787e-08],\n",
      "        [ 0.0000e+00,  0.0000e+00,  1.0000e+00,  3.5784e-08],\n",
      "        [ 0.0000e+00,  0.0000e+00,  0.0000e+00,  1.0000e+00]])\n",
      "tensor([1.0000, 1.0000, 1.0000, 1.0000])\n",
      "tensor([[-0.4147, -0.6200,  0.0565,  0.6637],\n",
      "        [ 0.8282, -0.5588,  0.0425, -0.0080],\n",
      "        [-0.3029, -0.4837, -0.5682, -0.5928],\n",
      "        [ 0.2243,  0.2636, -0.8198,  0.4562]])\n",
      "tensor([[-0.4147, -0.6200,  0.0565,  0.6637],\n",
      "        [ 0.8282, -0.5588,  0.0425, -0.0080],\n",
      "        [-0.3029, -0.4837, -0.5682, -0.5928],\n",
      "        [ 0.2243,  0.2636, -0.8198,  0.4562]])\n"
     ]
    }
   ],
   "source": [
    "shape1, shape2 = 4, 4\n",
    "data = torch.randn(shape1, shape2)\n",
    "\n",
    "print(f\"Q: {q.shape}\", '\\n', f\"R: {r.shape}\", sep='')\n",
    "print(q)\n",
    "print(r)\n",
    "print(torch.norm(q, dim=-1))\n",
    "\n",
    "norm_data = F.normalize(q, dim=-1, p=2)\n",
    "print(norm_data)\n",
    "norm_data = F.normalize(q, dim=0, p=2)\n",
    "print(norm_data)"
   ]
  },
  {
   "cell_type": "code",
   "execution_count": 63,
   "id": "a57c428b4f3b58dd",
   "metadata": {
    "ExecuteTime": {
     "end_time": "2024-07-10T11:39:33.171462Z",
     "start_time": "2024-07-10T11:39:33.163616Z"
    },
    "collapsed": false,
    "jupyter": {
     "outputs_hidden": false
    }
   },
   "outputs": [
    {
     "name": "stdout",
     "output_type": "stream",
     "text": [
      "tensor([[[ 1.0000e+00,  2.6917e-08,  4.2692e-09, -5.1593e-10],\n",
      "         [ 2.6917e-08,  1.0000e+00, -3.1164e-08, -4.1530e-08],\n",
      "         [ 4.2692e-09, -3.1164e-08,  1.0000e+00, -1.0817e-07],\n",
      "         [-5.1593e-10, -4.1530e-08, -1.0817e-07,  1.0000e+00]],\n",
      "\n",
      "        [[ 1.0000e+00, -3.4649e-08,  2.3164e-10,  8.2514e-09],\n",
      "         [-3.4649e-08,  1.0000e+00, -3.9167e-08,  2.3863e-08],\n",
      "         [ 2.3164e-10, -3.9167e-08,  1.0000e+00,  3.7559e-09],\n",
      "         [ 8.2514e-09,  2.3863e-08,  3.7559e-09,  1.0000e+00]],\n",
      "\n",
      "        [[ 1.0000e+00,  3.5535e-09,  1.8177e-08,  1.4369e-08],\n",
      "         [ 3.5535e-09,  1.0000e+00, -4.8728e-08, -4.5856e-09],\n",
      "         [ 1.8177e-08, -4.8728e-08,  1.0000e+00,  1.7061e-09],\n",
      "         [ 1.4369e-08, -4.5856e-09,  1.7061e-09,  1.0000e+00]]])\n"
     ]
    }
   ],
   "source": [
    "def qr_retraction(tan_vec):  # tan_vec, p-by-n, p <= n\n",
    "    # [p, n] = tan_vec.size()\n",
    "    tan_vec = tan_vec.permute(0, 2, 1)\n",
    "    q, r = torch.linalg.qr(tan_vec)\n",
    "    \n",
    "    d = torch.diagonal(r, dim1=-2, dim2=-1)\n",
    "    ph = d.sign()\n",
    "    q = torch.einsum(\"ij,ikj->ikj\", ph, q)\n",
    "    q = q.permute(0, 2, 1)\n",
    "    return q\n",
    "\n",
    "q = qr_retraction(torch.randn(3, 4, 5))\n",
    "print(torch.einsum('ijk, imk->ijm', q, q))\n"
   ]
  },
  {
   "cell_type": "code",
   "execution_count": 64,
   "id": "80a0ceacb95d83d6",
   "metadata": {
    "ExecuteTime": {
     "end_time": "2024-07-10T11:40:04.365543Z",
     "start_time": "2024-07-10T11:40:04.361265Z"
    },
    "collapsed": false,
    "jupyter": {
     "outputs_hidden": false
    }
   },
   "outputs": [
    {
     "name": "stdout",
     "output_type": "stream",
     "text": [
      "torch.Size([4, 8])\n",
      "tensor([[ 1.0000e+00,  3.7943e-08,  1.1106e-08, -2.1132e-08],\n",
      "        [ 3.7943e-08,  1.0000e+00,  2.4318e-10, -2.4585e-08],\n",
      "        [ 1.1106e-08,  2.4318e-10,  1.0000e+00,  2.4070e-09],\n",
      "        [-2.1132e-08, -2.4585e-08,  2.4070e-09,  1.0000e+00]])\n"
     ]
    }
   ],
   "source": [
    "shape1, shape2 = 4, 8\n",
    "data = torch.randn(shape1, shape2)\n",
    "torch.nn.init.orthogonal_(data)\n",
    "print(data.shape)\n",
    "print(data @ data.t())"
   ]
  },
  {
   "cell_type": "code",
   "execution_count": 65,
   "id": "cdbc22a6f8a831f",
   "metadata": {
    "ExecuteTime": {
     "end_time": "2024-07-10T11:39:33.228334Z",
     "start_time": "2024-07-10T11:39:33.228131Z"
    },
    "collapsed": false,
    "jupyter": {
     "outputs_hidden": false
    }
   },
   "outputs": [
    {
     "data": {
      "text/plain": [
       "(tensor([[-0.1225, -0.4192, -0.7984,  0.4144],\n",
       "         [ 0.3953,  0.0134,  0.3689,  0.8411],\n",
       "         [ 0.8956,  0.1013, -0.3339, -0.2761],\n",
       "         [-0.1634,  0.9021, -0.3390,  0.2111]]),\n",
       " tensor([[-0.1225, -0.4192, -0.7984,  0.4144],\n",
       "         [ 0.3953,  0.0134,  0.3689,  0.8411],\n",
       "         [ 0.8956,  0.1013, -0.3339, -0.2761],\n",
       "         [-0.1634,  0.9021, -0.3390,  0.2111]]))"
      ]
     },
     "execution_count": 65,
     "metadata": {},
     "output_type": "execute_result"
    }
   ],
   "source": [
    "data = torch.randn(3, 4, 5)\n",
    "torch.linalg.qr(data[0])[0], torch.linalg.qr(data)[0][0]"
   ]
  },
  {
   "cell_type": "code",
   "execution_count": 66,
   "id": "661810b1-2d34-40fd-aa3a-c1a8b6d1d5b2",
   "metadata": {},
   "outputs": [
    {
     "data": {
      "text/plain": [
       "(tensor([[-0.1334,  0.1972, -0.4522, -0.7834, -0.3537],\n",
       "         [ 0.4565,  0.2100, -0.2117,  0.1236, -0.8291],\n",
       "         [ 0.4267,  0.1770, -0.5522,  0.6938,  0.0181],\n",
       "         [-0.1451, -0.5279,  0.0267, -0.0510,  0.8348]]),\n",
       " tensor([[-0.1334,  0.1972, -0.4522, -0.7834, -0.3537],\n",
       "         [ 0.4565,  0.2100, -0.2117,  0.1236, -0.8291],\n",
       "         [ 0.4267,  0.1770, -0.5522,  0.6938,  0.0181],\n",
       "         [-0.1451, -0.5279,  0.0267, -0.0510,  0.8348]]))"
      ]
     },
     "execution_count": 66,
     "metadata": {},
     "output_type": "execute_result"
    }
   ],
   "source": [
    "F.normalize(data, dim=-1)[0], F.normalize(data[0], dim=-1)"
   ]
  },
  {
   "cell_type": "code",
   "execution_count": 67,
   "id": "6d1a4b2b-d1be-464e-a9b2-f6c1ac24e1fa",
   "metadata": {},
   "outputs": [
    {
     "name": "stdout",
     "output_type": "stream",
     "text": [
      "tensor([1.3836, 1.5646, 1.6707])\n"
     ]
    }
   ],
   "source": [
    "data = torch.randn(3, 4, 5)\n",
    "print(torch.max(data.flatten(1), dim=-1).values)"
   ]
  },
  {
   "cell_type": "code",
   "execution_count": 68,
   "id": "1ec5afe1-fbef-4aa2-868c-68ea4788a980",
   "metadata": {},
   "outputs": [
    {
     "name": "stdout",
     "output_type": "stream",
     "text": [
      "torch.Size([4, 4, 8])\n",
      "tensor([[[ 1.0000e+00, -1.6400e-08,  2.2875e-08,  1.6325e-08],\n",
      "         [-1.6400e-08,  1.0000e+00,  6.5359e-08, -1.0851e-08],\n",
      "         [ 2.2875e-08,  6.5359e-08,  1.0000e+00, -1.6134e-08],\n",
      "         [ 1.6325e-08, -1.0851e-08, -1.6134e-08,  1.0000e+00]],\n",
      "\n",
      "        [[ 4.7944e+00, -2.9950e-01,  1.9168e+00, -4.4375e+00],\n",
      "         [-2.9950e-01,  7.6753e+00, -5.5554e+00, -8.7705e-01],\n",
      "         [ 1.9168e+00, -5.5554e+00,  1.0303e+01, -1.0432e+00],\n",
      "         [-4.4375e+00, -8.7705e-01, -1.0432e+00,  1.3567e+01]],\n",
      "\n",
      "        [[ 3.1671e+00,  1.1916e+00, -7.7421e-01,  1.0403e+00],\n",
      "         [ 1.1916e+00,  1.0196e+01, -3.8736e-01,  4.0368e+00],\n",
      "         [-7.7421e-01, -3.8736e-01,  4.8437e+00, -4.1069e+00],\n",
      "         [ 1.0403e+00,  4.0368e+00, -4.1069e+00,  6.4537e+00]],\n",
      "\n",
      "        [[ 4.7135e+00, -7.7716e-01,  3.0082e+00,  1.1763e+00],\n",
      "         [-7.7716e-01,  5.6433e+00, -2.0379e+00,  4.7520e-01],\n",
      "         [ 3.0082e+00, -2.0379e+00,  9.6429e+00,  3.3345e+00],\n",
      "         [ 1.1763e+00,  4.7520e-01,  3.3345e+00,  4.3016e+00]]])\n"
     ]
    }
   ],
   "source": [
    "shape1, shape2, shape3 = 4, 4, 8\n",
    "data = torch.randn(shape1, shape2, shape3)\n",
    "torch.nn.init.orthogonal_(data[0])\n",
    "print(data.shape)\n",
    "print(data @ data.permute(0, 2, 1))"
   ]
  },
  {
   "cell_type": "code",
   "execution_count": null,
   "id": "c0f0b256-5f11-4ce0-944d-7cb9b1aed17e",
   "metadata": {},
   "outputs": [],
   "source": []
  }
 ],
 "metadata": {
  "kernelspec": {
   "display_name": "Python 3 (ipykernel)",
   "language": "python",
   "name": "python3"
  },
  "language_info": {
   "codemirror_mode": {
    "name": "ipython",
    "version": 3
   },
   "file_extension": ".py",
   "mimetype": "text/x-python",
   "name": "python",
   "nbconvert_exporter": "python",
   "pygments_lexer": "ipython3",
   "version": "3.8.19"
  }
 },
 "nbformat": 4,
 "nbformat_minor": 5
}
