{
 "cells": [
  {
   "cell_type": "code",
   "outputs": [],
   "source": [
    "import torch\n",
    "import torch.nn.functional as F"
   ],
   "metadata": {
    "collapsed": false,
    "ExecuteTime": {
     "end_time": "2024-07-10T11:39:33.089786Z",
     "start_time": "2024-07-10T11:39:32.140864Z"
    }
   },
   "id": "a2d931e6a5a49d6e",
   "execution_count": 2
  },
  {
   "cell_type": "code",
   "outputs": [
    {
     "name": "stdout",
     "output_type": "stream",
     "text": [
      "tensor([[-0.2518, -0.9045, -0.3345,  0.0814],\n",
      "        [ 0.7751, -0.3321,  0.1923, -0.5019],\n",
      "        [-0.2423,  0.2173, -0.5857, -0.7423],\n",
      "        [ 0.5264,  0.1563, -0.7128,  0.4364]])\n",
      "Q: torch.Size([4, 4])R: torch.Size([4, 4])\n",
      "tensor([[ 1.0000e+00, -1.9536e-08,  4.4024e-08, -8.3888e-08],\n",
      "        [-1.9536e-08,  1.0000e+00,  1.2553e-08,  4.3148e-08],\n",
      "        [ 4.4024e-08,  1.2553e-08,  1.0000e+00,  2.6917e-08],\n",
      "        [-8.3888e-08,  4.3148e-08,  2.6917e-08,  1.0000e+00]])\n",
      "tensor([[ 1.0000e+00,  7.7971e-08, -1.2321e-08,  2.4570e-08],\n",
      "        [ 7.7971e-08,  1.0000e+00, -2.9737e-08,  1.1784e-08],\n",
      "        [-1.2321e-08, -2.9737e-08,  1.0000e+00,  1.0299e-07],\n",
      "        [ 2.4570e-08,  1.1784e-08,  1.0299e-07,  1.0000e+00]])\n"
     ]
    }
   ],
   "source": [
    "shape1, shape2 = 4, 4\n",
    "data = torch.randn(shape1, shape2)\n",
    "q, r = torch.linalg.qr(data)\n",
    "print(q, \"\\n\", f\"Q: {q.shape}\", f\"R: {r.shape}\", sep='')\n",
    "print(q @ q.t())\n",
    "print(q.t() @ q)"
   ],
   "metadata": {
    "collapsed": false,
    "ExecuteTime": {
     "end_time": "2024-07-10T11:39:33.135140Z",
     "start_time": "2024-07-10T11:39:33.090840Z"
    }
   },
   "id": "8decac0a292fc182",
   "execution_count": 3
  },
  {
   "cell_type": "code",
   "outputs": [
    {
     "name": "stdout",
     "output_type": "stream",
     "text": [
      "tensor([[-0.6783,  0.0715, -0.3040, -0.2987],\n",
      "        [-0.4063, -0.1277, -0.5888,  0.1638],\n",
      "        [ 0.4850,  0.2284, -0.6847,  0.3477],\n",
      "        [ 0.3318, -0.6910, -0.2745, -0.5798],\n",
      "        [ 0.1718,  0.6700, -0.1294, -0.6534]])\n",
      "Q: torch.Size([5, 4])R: torch.Size([4, 4])\n",
      "tensor([[ 0.6468,  0.3965, -0.2083, -0.0179,  0.1659],\n",
      "        [ 0.3965,  0.5549,  0.2339,  0.0201, -0.1862],\n",
      "        [-0.2083,  0.2339,  0.8771, -0.0105,  0.0978],\n",
      "        [-0.0179,  0.0201, -0.0105,  0.9991,  0.0084],\n",
      "        [ 0.1659, -0.1862,  0.0978,  0.0084,  0.9221]])\n",
      "tensor([[ 1.0000e+00, -2.9066e-08,  1.1776e-08,  7.2524e-09],\n",
      "        [-2.9066e-08,  1.0000e+00,  9.4010e-08, -4.1205e-08],\n",
      "        [ 1.1776e-08,  9.4010e-08,  1.0000e+00, -9.0130e-08],\n",
      "        [ 7.2524e-09, -4.1205e-08, -9.0130e-08,  1.0000e+00]])\n"
     ]
    }
   ],
   "source": [
    "shape1, shape2 = 5, 4\n",
    "data = torch.randn(shape1, shape2)\n",
    "q, r = torch.linalg.qr(data)\n",
    "print(q, \"\\n\", f\"Q: {q.shape}\", f\"R: {r.shape}\", sep='')\n",
    "print(q @ q.t())\n",
    "print(q.t() @ q)"
   ],
   "metadata": {
    "collapsed": false,
    "ExecuteTime": {
     "end_time": "2024-07-10T11:39:33.140651Z",
     "start_time": "2024-07-10T11:39:33.136209Z"
    }
   },
   "id": "c5f06059d6e0e509",
   "execution_count": 4
  },
  {
   "cell_type": "code",
   "outputs": [
    {
     "name": "stdout",
     "output_type": "stream",
     "text": [
      "tensor([[-0.0663,  0.9027, -0.2777, -0.3220],\n",
      "        [-0.8425, -0.0309,  0.4472, -0.2988],\n",
      "        [ 0.0210, -0.4217, -0.4963, -0.7585],\n",
      "        [-0.5342, -0.0799, -0.6904,  0.4813]])\n",
      "Q: torch.Size([4, 4])R: torch.Size([4, 20])\n",
      "tensor([[ 1.0000e+00, -5.9470e-10, -3.2720e-08,  1.1262e-07],\n",
      "        [-5.9470e-10,  1.0000e+00, -1.5531e-08, -3.3274e-08],\n",
      "        [-3.2720e-08, -1.5531e-08,  1.0000e+00, -2.9590e-09],\n",
      "        [ 1.1262e-07, -3.3274e-08, -2.9590e-09,  1.0000e+00]])\n",
      "tensor([[ 1.0000e+00, -8.6291e-08, -1.4626e-08,  3.0473e-08],\n",
      "        [-8.6291e-08,  1.0000e+00, -1.3116e-07, -2.1231e-08],\n",
      "        [-1.4626e-08, -1.3116e-07,  1.0000e+00,  1.7544e-09],\n",
      "        [ 3.0473e-08, -2.1231e-08,  1.7544e-09,  1.0000e+00]])\n"
     ]
    }
   ],
   "source": [
    "shape1, shape2 = 4, 20\n",
    "data = torch.randn(shape1, shape2)\n",
    "q, r = torch.linalg.qr(data)\n",
    "print(q, \"\\n\", f\"Q: {q.shape}\", f\"R: {r.shape}\", sep='')\n",
    "print(q @ q.t())\n",
    "print(q.t() @ q)"
   ],
   "metadata": {
    "collapsed": false,
    "ExecuteTime": {
     "end_time": "2024-07-10T11:39:33.147284Z",
     "start_time": "2024-07-10T11:39:33.142544Z"
    }
   },
   "id": "51996f4629c519e3",
   "execution_count": 5
  },
  {
   "cell_type": "code",
   "outputs": [
    {
     "name": "stdout",
     "output_type": "stream",
     "text": [
      "Q: torch.Size([4, 4])\n",
      "R: torch.Size([4, 4])\n",
      "tensor([[-0.4714, -0.0466,  0.5121, -0.7165],\n",
      "        [ 0.2912, -0.7470,  0.5446,  0.2461],\n",
      "        [-0.7964, -0.4052, -0.2863,  0.3457],\n",
      "        [-0.2422,  0.5249,  0.5994,  0.5536]])\n",
      "tensor([[-1.8752,  0.1035,  0.0536, -1.1142],\n",
      "        [ 0.0000, -1.7151,  1.7249,  0.3868],\n",
      "        [ 0.0000,  0.0000,  0.6307,  0.5487],\n",
      "        [ 0.0000,  0.0000,  0.0000,  0.3378]])\n",
      "tensor([1.0000, 1.0000, 1.0000, 1.0000])\n",
      "Q: torch.Size([4, 4])\n",
      "R: torch.Size([4, 4])\n",
      "tensor([[-0.4714, -0.0466,  0.5121, -0.7165],\n",
      "        [ 0.2912, -0.7470,  0.5446,  0.2461],\n",
      "        [-0.7964, -0.4052, -0.2863,  0.3457],\n",
      "        [-0.2422,  0.5249,  0.5994,  0.5536]])\n",
      "tensor([[ 1.0000e+00, -7.4810e-10, -1.4485e-08,  9.3007e-09],\n",
      "        [ 0.0000e+00,  1.0000e+00, -3.5555e-08,  3.1083e-08],\n",
      "        [ 0.0000e+00,  0.0000e+00,  1.0000e+00, -7.9362e-08],\n",
      "        [ 0.0000e+00,  0.0000e+00,  0.0000e+00,  1.0000e+00]])\n",
      "tensor([1.0000, 1.0000, 1.0000, 1.0000])\n"
     ]
    }
   ],
   "source": [
    "import torch.nn as nn\n",
    "shape1, shape2 = 4, 4\n",
    "data = torch.randn(shape1, shape2)\n",
    "q, r = torch.linalg.qr(data)\n",
    "print(f\"Q: {q.shape}\", '\\n', f\"R: {r.shape}\", sep='')\n",
    "print(q)\n",
    "print(r)\n",
    "print(torch.norm(q, dim=-1))\n",
    "\n",
    "q, r = torch.linalg.qr(q)\n",
    "print(f\"Q: {q.shape}\", '\\n', f\"R: {r.shape}\", sep='')\n",
    "print(q)\n",
    "print(r)\n",
    "print(torch.norm(q, dim=-1))"
   ],
   "metadata": {
    "collapsed": false,
    "ExecuteTime": {
     "end_time": "2024-07-10T11:39:33.154356Z",
     "start_time": "2024-07-10T11:39:33.148389Z"
    }
   },
   "id": "8c9465d51aebebd4",
   "execution_count": 6
  },
  {
   "cell_type": "code",
   "outputs": [
    {
     "name": "stdout",
     "output_type": "stream",
     "text": [
      "Q: torch.Size([4, 4])\n",
      "R: torch.Size([4, 4])\n",
      "tensor([[-0.4714, -0.0466,  0.5121, -0.7165],\n",
      "        [ 0.2912, -0.7470,  0.5446,  0.2461],\n",
      "        [-0.7964, -0.4052, -0.2863,  0.3457],\n",
      "        [-0.2422,  0.5249,  0.5994,  0.5536]])\n",
      "tensor([[ 1.0000e+00, -7.4810e-10, -1.4485e-08,  9.3007e-09],\n",
      "        [ 0.0000e+00,  1.0000e+00, -3.5555e-08,  3.1083e-08],\n",
      "        [ 0.0000e+00,  0.0000e+00,  1.0000e+00, -7.9362e-08],\n",
      "        [ 0.0000e+00,  0.0000e+00,  0.0000e+00,  1.0000e+00]])\n",
      "tensor([1.0000, 1.0000, 1.0000, 1.0000])\n",
      "tensor([[-0.4714, -0.0466,  0.5121, -0.7165],\n",
      "        [ 0.2912, -0.7470,  0.5446,  0.2461],\n",
      "        [-0.7964, -0.4052, -0.2863,  0.3457],\n",
      "        [-0.2422,  0.5249,  0.5994,  0.5536]])\n",
      "tensor([[-0.4714, -0.0466,  0.5121, -0.7165],\n",
      "        [ 0.2912, -0.7470,  0.5446,  0.2461],\n",
      "        [-0.7964, -0.4052, -0.2863,  0.3457],\n",
      "        [-0.2422,  0.5249,  0.5994,  0.5536]])\n"
     ]
    }
   ],
   "source": [
    "shape1, shape2 = 4, 4\n",
    "data = torch.randn(shape1, shape2)\n",
    "\n",
    "print(f\"Q: {q.shape}\", '\\n', f\"R: {r.shape}\", sep='')\n",
    "print(q)\n",
    "print(r)\n",
    "print(torch.norm(q, dim=-1))\n",
    "\n",
    "norm_data = F.normalize(q, dim=-1, p=2)\n",
    "print(norm_data)\n",
    "norm_data = F.normalize(q, dim=0, p=2)\n",
    "print(norm_data)"
   ],
   "metadata": {
    "collapsed": false,
    "ExecuteTime": {
     "end_time": "2024-07-10T11:39:33.162663Z",
     "start_time": "2024-07-10T11:39:33.155326Z"
    }
   },
   "id": "487ee14be621074f",
   "execution_count": 7
  },
  {
   "cell_type": "code",
   "outputs": [
    {
     "name": "stdout",
     "output_type": "stream",
     "text": [
      "tensor([[ 1.0000e+00,  3.9229e-08, -3.5436e-08, -3.5576e-08],\n",
      "        [ 3.9229e-08,  1.0000e+00,  4.5683e-08,  5.2517e-08],\n",
      "        [-3.5436e-08,  4.5683e-08,  1.0000e+00, -4.7265e-08],\n",
      "        [-3.5576e-08,  5.2517e-08, -4.7265e-08,  1.0000e+00]])\n",
      "tensor([[ 0.5009, -0.1392,  0.4102,  0.1805,  0.1726],\n",
      "        [-0.1392,  0.9612,  0.1144,  0.0504,  0.0482],\n",
      "        [ 0.4102,  0.1144,  0.6629, -0.1484, -0.1419],\n",
      "        [ 0.1805,  0.0504, -0.1484,  0.9347, -0.0624],\n",
      "        [ 0.1726,  0.0482, -0.1419, -0.0624,  0.9403]])\n"
     ]
    }
   ],
   "source": [
    "def qr_retraction(tan_vec):  # tan_vec, p-by-n, p <= n\n",
    "    [p, n] = tan_vec.size()\n",
    "    tan_vec.t_()\n",
    "    q, r = torch.linalg.qr(tan_vec)\n",
    "    d = torch.diag(r, 0)\n",
    "    ph = d.sign()\n",
    "    q *= ph.expand_as(q)\n",
    "    q.t_()\n",
    "\n",
    "    return q\n",
    "\n",
    "q = qr_retraction(torch.randn(4, 5))\n",
    "print(q @ q.t())\n",
    "print(q.t() @ q)"
   ],
   "metadata": {
    "collapsed": false,
    "ExecuteTime": {
     "end_time": "2024-07-10T11:39:33.171462Z",
     "start_time": "2024-07-10T11:39:33.163616Z"
    }
   },
   "id": "a57c428b4f3b58dd",
   "execution_count": 8
  },
  {
   "cell_type": "code",
   "outputs": [
    {
     "name": "stdout",
     "output_type": "stream",
     "text": [
      "torch.Size([4, 8])\n",
      "tensor([[ 1.0000e+00, -1.8884e-08, -2.0549e-09,  4.1243e-08],\n",
      "        [-1.8884e-08,  1.0000e+00, -3.2972e-08,  4.8322e-08],\n",
      "        [-2.0549e-09, -3.2972e-08,  1.0000e+00, -1.5985e-07],\n",
      "        [ 4.1243e-08,  4.8322e-08, -1.5985e-07,  1.0000e+00]])\n"
     ]
    }
   ],
   "source": [
    "shape1, shape2 = 4, 8\n",
    "data = torch.randn(shape1, shape2)\n",
    "torch.nn.init.orthogonal_(data)\n",
    "print(data.shape)\n",
    "print(data @ data.t())"
   ],
   "metadata": {
    "collapsed": false,
    "ExecuteTime": {
     "end_time": "2024-07-10T11:40:04.365543Z",
     "start_time": "2024-07-10T11:40:04.361265Z"
    }
   },
   "id": "80a0ceacb95d83d6",
   "execution_count": 12
  },
  {
   "cell_type": "code",
   "outputs": [],
   "source": [],
   "metadata": {
    "collapsed": false,
    "ExecuteTime": {
     "end_time": "2024-07-10T11:39:33.228334Z",
     "start_time": "2024-07-10T11:39:33.228131Z"
    }
   },
   "id": "cdbc22a6f8a831f"
  }
 ],
 "metadata": {
  "kernelspec": {
   "display_name": "Python 3",
   "language": "python",
   "name": "python3"
  },
  "language_info": {
   "codemirror_mode": {
    "name": "ipython",
    "version": 2
   },
   "file_extension": ".py",
   "mimetype": "text/x-python",
   "name": "python",
   "nbconvert_exporter": "python",
   "pygments_lexer": "ipython2",
   "version": "2.7.6"
  }
 },
 "nbformat": 4,
 "nbformat_minor": 5
}
