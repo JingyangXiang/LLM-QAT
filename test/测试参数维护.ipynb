{
 "cells": [
  {
   "cell_type": "code",
   "execution_count": 28,
   "id": "initial_id",
   "metadata": {
    "collapsed": true,
    "ExecuteTime": {
     "end_time": "2024-07-11T02:01:43.038278Z",
     "start_time": "2024-07-11T02:01:43.031692Z"
    }
   },
   "outputs": [],
   "source": [
    "import torch\n",
    "import torch.nn as nn"
   ]
  },
  {
   "cell_type": "code",
   "outputs": [
    {
     "name": "stdout",
     "output_type": "stream",
     "text": [
      "0.params.0 torch.Size([10, 10])\n",
      "0.params.R1 torch.Size([5, 10])\n"
     ]
    }
   ],
   "source": [
    "class ParamListTest(nn.Module):\n",
    "    def __init__(self):\n",
    "        super().__init__()\n",
    "        self.params = nn.ParameterList([nn.Parameter(torch.randn(10, 10)) for i in range(10)])\n",
    "\n",
    "    def forward(self, x):\n",
    "        # ParameterList can act as an iterable, or be indexed using ints\n",
    "        for i, p in enumerate(self.params):\n",
    "            x = self.params[i // 2].mm(x) + p.mm(x)\n",
    "        return x\n",
    "\n",
    "model = nn.Sequential(\n",
    "    ParamListTest(),\n",
    "    ParamListTest()\n",
    ")\n",
    "\n",
    "for name, param in model.named_parameters():\n",
    "    print(name, param.shape)\n",
    "    break\n",
    "\n",
    "\n",
    "class ParamDictTest(nn.Module):\n",
    "    def __init__(self):\n",
    "        super().__init__()\n",
    "        self.params = nn.ParameterDict({\n",
    "                'R1': nn.Parameter(torch.randn(5, 10)),\n",
    "                'R2': nn.Parameter(torch.randn(5, 10))\n",
    "        })\n",
    "\n",
    "    def forward(self, x, choice):\n",
    "        x = self.params[choice].mm(x)\n",
    "        return x\n",
    "\n",
    "model = nn.Sequential(\n",
    "    ParamDictTest(),\n",
    "    ParamDictTest()\n",
    ")\n",
    "\n",
    "for name, param in model.named_parameters():\n",
    "    print(name, param.shape)\n",
    "    break"
   ],
   "metadata": {
    "collapsed": false,
    "ExecuteTime": {
     "end_time": "2024-07-11T02:01:43.169576Z",
     "start_time": "2024-07-11T02:01:43.161782Z"
    }
   },
   "id": "243b8f6d73f19b0",
   "execution_count": 29
  },
  {
   "cell_type": "code",
   "outputs": [
    {
     "name": "stdout",
     "output_type": "stream",
     "text": [
      "ParameterDict(\n",
      "    (R0): Parameter containing: [torch.FloatTensor of size 8x8]\n",
      "    (R1): Parameter containing: [torch.FloatTensor of size 8x8]\n",
      ")\n",
      "==> (hidden_size, num_attention_heads): (512, 8) rotate matrix: torch.Size([64, 64])\n",
      "ParameterDict(\n",
      "    (R0): Parameter containing: [torch.FloatTensor of size 4x4]\n",
      "    (R1): Parameter containing: [torch.FloatTensor of size 8x8]\n",
      ")\n",
      "==> (hidden_size, num_attention_heads): (512, 16) rotate matrix: torch.Size([32, 32])\n",
      "ParameterDict(\n",
      "    (R0): Parameter containing: [torch.FloatTensor of size 4x4]\n",
      "    (R1): Parameter containing: [torch.FloatTensor of size 4x4]\n",
      ")\n",
      "==> (hidden_size, num_attention_heads): (512, 32) rotate matrix: torch.Size([16, 16])\n",
      "ParameterDict(\n",
      "    (R0): Parameter containing: [torch.FloatTensor of size 8x8]\n",
      "    (R1): Parameter containing: [torch.FloatTensor of size 16x16]\n",
      ")\n",
      "==> (hidden_size, num_attention_heads): (1024, 8) rotate matrix: torch.Size([128, 128])\n",
      "ParameterDict(\n",
      "    (R0): Parameter containing: [torch.FloatTensor of size 8x8]\n",
      "    (R1): Parameter containing: [torch.FloatTensor of size 8x8]\n",
      ")\n",
      "==> (hidden_size, num_attention_heads): (1024, 16) rotate matrix: torch.Size([64, 64])\n",
      "ParameterDict(\n",
      "    (R0): Parameter containing: [torch.FloatTensor of size 4x4]\n",
      "    (R1): Parameter containing: [torch.FloatTensor of size 8x8]\n",
      ")\n",
      "==> (hidden_size, num_attention_heads): (1024, 32) rotate matrix: torch.Size([32, 32])\n",
      "ParameterDict(\n",
      "    (R0): Parameter containing: [torch.FloatTensor of size 16x16]\n",
      "    (R1): Parameter containing: [torch.FloatTensor of size 16x16]\n",
      ")\n",
      "==> (hidden_size, num_attention_heads): (2048, 8) rotate matrix: torch.Size([256, 256])\n",
      "ParameterDict(\n",
      "    (R0): Parameter containing: [torch.FloatTensor of size 8x8]\n",
      "    (R1): Parameter containing: [torch.FloatTensor of size 16x16]\n",
      ")\n",
      "==> (hidden_size, num_attention_heads): (2048, 16) rotate matrix: torch.Size([128, 128])\n",
      "ParameterDict(\n",
      "    (R0): Parameter containing: [torch.FloatTensor of size 8x8]\n",
      "    (R1): Parameter containing: [torch.FloatTensor of size 8x8]\n",
      ")\n",
      "==> (hidden_size, num_attention_heads): (2048, 32) rotate matrix: torch.Size([64, 64])\n",
      "ParameterDict(\n",
      "    (R0): Parameter containing: [torch.FloatTensor of size 16x16]\n",
      "    (R1): Parameter containing: [torch.FloatTensor of size 32x32]\n",
      ")\n",
      "==> (hidden_size, num_attention_heads): (4096, 8) rotate matrix: torch.Size([512, 512])\n",
      "ParameterDict(\n",
      "    (R0): Parameter containing: [torch.FloatTensor of size 16x16]\n",
      "    (R1): Parameter containing: [torch.FloatTensor of size 16x16]\n",
      ")\n",
      "==> (hidden_size, num_attention_heads): (4096, 16) rotate matrix: torch.Size([256, 256])\n",
      "ParameterDict(\n",
      "    (R0): Parameter containing: [torch.FloatTensor of size 8x8]\n",
      "    (R1): Parameter containing: [torch.FloatTensor of size 16x16]\n",
      ")\n",
      "==> (hidden_size, num_attention_heads): (4096, 32) rotate matrix: torch.Size([128, 128])\n"
     ]
    }
   ],
   "source": [
    "from tools.rotation_utils import RotateModule\n",
    "\n",
    "hidden_sizes = [512, 1024, 2048, 4096]\n",
    "num_attention_headses = [8, 16, 32]\n",
    "for hidden_size in hidden_sizes:\n",
    "    for num_attention_heads in num_attention_headses:\n",
    "        rotate_module = RotateModule(hidden_size, num_attention_heads=num_attention_heads)\n",
    "        print(rotate_module.params_dict)\n",
    "        print(f\"==> (hidden_size, num_attention_heads): ({hidden_size}, {num_attention_heads}) rotate matrix: {rotate_module().shape}\")"
   ],
   "metadata": {
    "collapsed": false,
    "ExecuteTime": {
     "end_time": "2024-07-11T02:08:42.588934Z",
     "start_time": "2024-07-11T02:08:42.577199Z"
    }
   },
   "id": "27b749846f41b33c",
   "execution_count": 43
  },
  {
   "cell_type": "code",
   "outputs": [
    {
     "name": "stdout",
     "output_type": "stream",
     "text": [
      "features.0.weight torch.Size([64, 3, 3, 3])\n",
      "features.0.bias torch.Size([64])\n",
      "features.3.weight torch.Size([128, 64, 3, 3])\n",
      "features.3.bias torch.Size([128])\n",
      "features.6.weight torch.Size([256, 128, 3, 3])\n",
      "features.6.bias torch.Size([256])\n",
      "features.8.weight torch.Size([256, 256, 3, 3])\n",
      "features.8.bias torch.Size([256])\n",
      "features.11.weight torch.Size([512, 256, 3, 3])\n",
      "features.11.bias torch.Size([512])\n",
      "features.13.weight torch.Size([512, 512, 3, 3])\n",
      "features.13.bias torch.Size([512])\n",
      "features.16.weight torch.Size([512, 512, 3, 3])\n",
      "features.16.bias torch.Size([512])\n",
      "features.18.weight torch.Size([512, 512, 3, 3])\n",
      "features.18.bias torch.Size([512])\n",
      "classifier.0.weight torch.Size([4096, 25088])\n",
      "classifier.0.bias torch.Size([4096])\n",
      "classifier.3.weight torch.Size([4096, 4096])\n",
      "classifier.3.bias torch.Size([4096])\n",
      "classifier.6.weight torch.Size([1000, 4096])\n",
      "classifier.6.bias torch.Size([1000])\n",
      "========================================\n",
      "new_param1 torch.Size([10, 20])\n",
      "features.0.weight torch.Size([64, 3, 3, 3])\n",
      "features.0.bias torch.Size([64])\n",
      "features.3.weight torch.Size([128, 64, 3, 3])\n",
      "features.3.bias torch.Size([128])\n",
      "features.6.weight torch.Size([256, 128, 3, 3])\n",
      "features.6.bias torch.Size([256])\n",
      "features.8.weight torch.Size([256, 256, 3, 3])\n",
      "features.8.bias torch.Size([256])\n",
      "features.11.weight torch.Size([512, 256, 3, 3])\n",
      "features.11.bias torch.Size([512])\n",
      "features.13.weight torch.Size([512, 512, 3, 3])\n",
      "features.13.bias torch.Size([512])\n",
      "features.16.weight torch.Size([512, 512, 3, 3])\n",
      "features.16.bias torch.Size([512])\n",
      "features.18.weight torch.Size([512, 512, 3, 3])\n",
      "features.18.bias torch.Size([512])\n",
      "classifier.0.weight torch.Size([4096, 25088])\n",
      "classifier.0.bias torch.Size([4096])\n",
      "classifier.3.weight torch.Size([4096, 4096])\n",
      "classifier.3.bias torch.Size([4096])\n",
      "classifier.6.weight torch.Size([1000, 4096])\n",
      "classifier.6.bias torch.Size([1000])\n"
     ]
    }
   ],
   "source": [
    "import torch\n",
    "import torch.nn as nn\n",
    "import torchvision\n",
    "\n",
    "model = torchvision.models.vgg11(pretrained=False)\n",
    "for name, param in model.named_parameters():\n",
    "    print(name, param.shape)\n",
    "\n",
    "params = nn.Parameter(torch.randn(10, 20), requires_grad=True)\n",
    "\n",
    "# model.new_param = params\n",
    "model.new_param1 = params\n",
    "\n",
    "print(\"==\" * 20)\n",
    "for name, param in model.named_parameters():\n",
    "    print(name, param.shape)"
   ],
   "metadata": {
    "collapsed": false,
    "ExecuteTime": {
     "end_time": "2024-07-16T06:54:06.158876Z",
     "start_time": "2024-07-16T06:54:04.383689Z"
    }
   },
   "id": "c4fd0d8a3db349be",
   "execution_count": 5
  },
  {
   "cell_type": "code",
   "outputs": [],
   "source": [],
   "metadata": {
    "collapsed": false
   },
   "id": "9fa1fae80381acf3"
  }
 ],
 "metadata": {
  "kernelspec": {
   "display_name": "Python 3",
   "language": "python",
   "name": "python3"
  },
  "language_info": {
   "codemirror_mode": {
    "name": "ipython",
    "version": 2
   },
   "file_extension": ".py",
   "mimetype": "text/x-python",
   "name": "python",
   "nbconvert_exporter": "python",
   "pygments_lexer": "ipython2",
   "version": "2.7.6"
  }
 },
 "nbformat": 4,
 "nbformat_minor": 5
}
