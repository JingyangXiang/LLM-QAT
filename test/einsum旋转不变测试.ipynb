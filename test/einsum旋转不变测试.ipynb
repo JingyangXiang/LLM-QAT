{
 "cells": [
  {
   "cell_type": "code",
   "execution_count": 61,
   "id": "initial_id",
   "metadata": {
    "collapsed": true,
    "ExecuteTime": {
     "end_time": "2024-07-11T03:11:42.974061Z",
     "start_time": "2024-07-11T03:11:42.964771Z"
    }
   },
   "outputs": [],
   "source": [
    "import time\n",
    "import torch\n",
    "import torch.nn as nn\n",
    "from einops import einsum, rearrange\n",
    "\n",
    "device = 'mps'\n",
    "if device == 'mps':\n",
    "    func = torch.mps.synchronize\n",
    "else:\n",
    "    func = torch.cpu.synchronize\n",
    "\n",
    "iter_num = 1\n",
    "num = 10\n",
    "N0_ = 2 ** num\n",
    "N1_ = 1"
   ]
  },
  {
   "cell_type": "markdown",
   "source": [
    "# 权重输入通道旋转\n",
    "\n",
    "```python\n",
    "@torch.no_grad()\n",
    "def rotate_mlp_input(layer, Q):\n",
    "    # Rotate the MLP input weights.\n",
    "    mlp_inputs = [layer.mlp.up_proj, layer.mlp.gate_proj]\n",
    "    for W in mlp_inputs:\n",
    "        dtype = W.weight.dtype\n",
    "        W_ = W.weight.data.to(dtype=torch.float32)\n",
    "        W.weight.data = torch.matmul(W_, Q).to(dtype=dtype)\n",
    "```"
   ],
   "metadata": {
    "collapsed": false
   },
   "id": "a74d3404e8bb4a41"
  },
  {
   "cell_type": "code",
   "outputs": [
    {
     "name": "stdout",
     "output_type": "stream",
     "text": [
      "N0: 1024 , N1: 1     diff1: 0.00029  diff2: 0.00022\n",
      "N0: 512  , N1: 2     diff1: 0.00055  diff2: 0.00024\n",
      "N0: 256  , N1: 4     diff1: 0.00021  diff2: 0.00008\n",
      "N0: 128  , N1: 8     diff1: 0.00021  diff2: 0.00007\n",
      "N0: 64   , N1: 16    diff1: 0.00026  diff2: 0.00000\n",
      "N0: 32   , N1: 32    diff1: 0.00031  diff2: 0.00000\n",
      "N0: 16   , N1: 64    diff1: 0.00035  diff2: 0.00000\n",
      "N0: 8    , N1: 128   diff1: 0.00031  diff2: 0.00000\n",
      "N0: 4    , N1: 256   diff1: 0.00029  diff2: 0.00000\n",
      "N0: 2    , N1: 512   diff1: 0.00025  diff2: 0.00000\n",
      "N0: 1    , N1: 1024  diff1: 0.00009  diff2: 0.00000\n"
     ]
    }
   ],
   "source": [
    "for i in range(num + 1):\n",
    "    N0 = N0_ // (2 ** i)\n",
    "    N1 = N1_ * (2 ** i)\n",
    "    R0 = torch.randn(N0, N0, device=device, dtype=torch.float32)\n",
    "    R1 = torch.randn(N1, N1, device=device, dtype=torch.float32)\n",
    "    # 权重的形状是(C_out, C_in)\n",
    "    weight = torch.randn(N0 * N1, N0 * N1, device=device, dtype=torch.float32)\n",
    "    \n",
    "    # # 在沿着输入维度旋转的操作\n",
    "    with torch.inference_mode():\n",
    "        Q = torch.kron(R0, R1)\n",
    "        start = time.time()\n",
    "        for _ in range(iter_num):\n",
    "            output_baseline = weight @ Q\n",
    "        func()\n",
    "    \n",
    "    # print(20 * '==')\n",
    "        start = time.time()\n",
    "        for _ in range(iter_num):\n",
    "            output2 = torch.einsum('ij,aik,km->ajm', R0, rearrange(weight, 'b (h c)->b h c', h=N0), R1).reshape(N0 * N1, -1)\n",
    "        func()\n",
    "    \n",
    "    # print(20 * '==')\n",
    "        start = time.time()\n",
    "        for _ in range(iter_num):\n",
    "            # output3 = einsum(R0, rearrange(weight, 'b (h c)->b h c', h=N0), R1, 'i j, a i k, k m -> a j m').reshape(N0 * N1, -1)\n",
    "            output3 = R0.t() @ rearrange(weight, 'b (h c)->b h c', h=N0) @ R1\n",
    "            output3 = output3.reshape(N0 * N1, -1)\n",
    "        func()\n",
    "        \n",
    "        diff1 = (output_baseline - output2).abs().max().detach().cpu().item()\n",
    "        diff2 = (output2 - output3).abs().max().detach().cpu().item()\n",
    "        print(f\"N0: {N0:<5}, N1: {N1:<5} diff1: {diff1:.5f}  diff2: {diff2:.5f}\")"
   ],
   "metadata": {
    "collapsed": false,
    "ExecuteTime": {
     "end_time": "2024-07-11T03:12:04.249997Z",
     "start_time": "2024-07-11T03:11:42.975112Z"
    }
   },
   "id": "8b2965b4b1100f2",
   "execution_count": 62
  },
  {
   "cell_type": "markdown",
   "source": [
    "# 权重输出通道旋转\n",
    "\n",
    "```python\n",
    "@torch.no_grad()\n",
    "def rotate_mlp_output(layer, Q):\n",
    "    # Rotate the MLP output weights and bias.\n",
    "    W = layer.mlp.down_proj\n",
    "    dtype = W.weight.data.dtype\n",
    "    W_ = W.weight.data.to(dtype=torch.float32)\n",
    "    W.weight.data = torch.matmul(Q.T, W_).to(dtype=dtype)\n",
    "    if W.bias is not None:\n",
    "        raise NotImplementedError\n",
    "```"
   ],
   "metadata": {
    "collapsed": false
   },
   "id": "e1de07ac1eb5ac77"
  },
  {
   "cell_type": "code",
   "outputs": [
    {
     "name": "stdout",
     "output_type": "stream",
     "text": [
      "N0: 1024 , N1: 1     diff1: 0.00041  diff2: 0.00041 sum1: 0.03125\n",
      "N0: 512  , N1: 2     diff1: 0.00026  diff2: 0.00026 sum1: 0.025390625\n",
      "N0: 256  , N1: 4     diff1: 0.00021  diff2: 0.00021 sum1: 0.0078125\n",
      "N0: 128  , N1: 8     diff1: 0.00034  diff2: 0.00034 sum1: 0.00390625\n",
      "N0: 64   , N1: 16    diff1: 0.00023  diff2: 0.00023 sum1: -0.013671875\n",
      "N0: 32   , N1: 32    diff1: 0.00024  diff2: 0.00024 sum1: 0.015625\n",
      "N0: 16   , N1: 64    diff1: 0.00031  diff2: 0.00031 sum1: -0.05078125\n",
      "N0: 8    , N1: 128   diff1: 0.00027  diff2: 0.00027 sum1: 0.009765625\n",
      "N0: 4    , N1: 256   diff1: 0.00037  diff2: 0.00037 sum1: 0.0\n",
      "N0: 2    , N1: 512   diff1: 0.00028  diff2: 0.00028 sum1: 0.0234375\n",
      "N0: 1    , N1: 1024  diff1: 0.00001  diff2: 0.00001 sum1: 0.002685546875\n"
     ]
    }
   ],
   "source": [
    "for i in range(num + 1):\n",
    "    N0 = N0_ // (2 ** i)\n",
    "    N1 = N1_ * (2 ** i)\n",
    "    R0 = torch.randn(N0, N0, device=device, dtype=torch.float32)\n",
    "    R1 = torch.randn(N1, N1, device=device, dtype=torch.float32)\n",
    "    # 权重的形状是(C_out, C_in)\n",
    "    weight = torch.randn(N0 * N1, N0 * N1, device=device, dtype=torch.float32)\n",
    "    \n",
    "    # # 在沿着输入维度旋转的操作\n",
    "    with torch.inference_mode():\n",
    "        Q = torch.kron(R0, R1)\n",
    "        start = time.time()\n",
    "        for _ in range(iter_num):\n",
    "            output_baseline = Q.t() @ weight\n",
    "        func()\n",
    "    \n",
    "    # print(20 * '==')\n",
    "        start = time.time()\n",
    "        for _ in range(iter_num):\n",
    "            output2 = torch.einsum('ij,ika,km->jma', R0, rearrange(weight, '(h c) b->h c b', h=N0), R1).reshape(-1, N0 * N1)\n",
    "        func()\n",
    "    \n",
    "    # print(20 * '==')\n",
    "        start = time.time()\n",
    "        for _ in range(iter_num):\n",
    "            output3 = torch.einsum('ij,ika,km->jma', R0, rearrange(weight, '(h c) b->h c b', h=N0), R1).reshape(-1, N0 * N1)\n",
    "\n",
    "        func()\n",
    "        \n",
    "        diff1 = (output_baseline - output2).abs().max().detach().cpu().item()\n",
    "        diff2 = (output_baseline - output3).abs().max().detach().cpu().item()\n",
    "        \n",
    "        print(f\"N0: {N0:<5}, N1: {N1:<5} diff1: {diff1:.5f}  diff2: {diff2:.5f} sum1: {output_baseline.sum() - output3.sum()}\")"
   ],
   "metadata": {
    "collapsed": false,
    "ExecuteTime": {
     "end_time": "2024-07-11T03:12:04.493940Z",
     "start_time": "2024-07-11T03:12:04.288397Z"
    }
   },
   "id": "5531f92feb272422",
   "execution_count": 63
  },
  {
   "cell_type": "markdown",
   "source": [
    "# 输入旋转 XQ"
   ],
   "metadata": {
    "collapsed": false
   },
   "id": "aed256506a774dce"
  },
  {
   "cell_type": "code",
   "outputs": [
    {
     "name": "stdout",
     "output_type": "stream",
     "text": [
      "N0: 1024 , N1: 1     diff1: 0.00008   sum: -0.00098\n",
      "N0: 512  , N1: 2     diff1: 0.00021   sum: -0.00269\n",
      "N0: 256  , N1: 4     diff1: 0.00018   sum: 0.00049\n",
      "N0: 128  , N1: 8     diff1: 0.00019   sum: -0.00391\n",
      "N0: 64   , N1: 16    diff1: 0.00016   sum: -0.00024\n",
      "N0: 32   , N1: 32    diff1: 0.00023   sum: -0.00391\n",
      "N0: 16   , N1: 64    diff1: 0.00020   sum: 0.00342\n",
      "N0: 8    , N1: 128   diff1: 0.00044   sum: -0.00195\n",
      "N0: 4    , N1: 256   diff1: 0.00038   sum: -0.00073\n",
      "N0: 2    , N1: 512   diff1: 0.00048   sum: -0.00781\n",
      "N0: 1    , N1: 1024  diff1: 0.00000   sum: 0.00000\n"
     ]
    }
   ],
   "source": [
    "for i in range(num + 1):\n",
    "    batch_size = 4\n",
    "    token_num = 10\n",
    "    N0 = N0_ // (2 ** i)\n",
    "    N1 = N1_ * (2 ** i)\n",
    "    R0 = torch.randn(N0, N0, device=device, dtype=torch.float32)\n",
    "    R1 = torch.randn(N1, N1, device=device, dtype=torch.float32)\n",
    "    # 权重的形状是(batch_size, token_num, N0 * N1)\n",
    "    data = torch.randn(batch_size, token_num, N0 * N1, device=device, dtype=torch.float32)\n",
    "    \n",
    "    # # 在沿着输入维度旋转的操作\n",
    "    with torch.inference_mode():\n",
    "        Q = torch.kron(R0, R1)\n",
    "        start = time.time()\n",
    "        for _ in range(iter_num):\n",
    "            output_baseline = data @ Q\n",
    "        func()\n",
    "    \n",
    "        start = time.time()\n",
    "        for _ in range(iter_num):\n",
    "            output2 = torch.einsum('ij,aik,km->ajm', R0, rearrange(data, 'b h (t p)->(b h) t p', t=N0), R1)\n",
    "            output2 = output2.reshape(batch_size, token_num, -1)\n",
    "        func()\n",
    "\n",
    "        \n",
    "        diff1 = (output_baseline - output2).abs().max().detach().cpu().item()\n",
    "        print(f\"N0: {N0:<5}, N1: {N1:<5} diff1: {diff1:.5f}   sum: {output_baseline.sum() - output2.sum():.5f}\")"
   ],
   "metadata": {
    "collapsed": false,
    "ExecuteTime": {
     "end_time": "2024-07-11T03:16:50.833291Z",
     "start_time": "2024-07-11T03:16:50.768311Z"
    }
   },
   "id": "ef2136e3b1edb1a7",
   "execution_count": 71
  },
  {
   "cell_type": "code",
   "outputs": [],
   "source": [],
   "metadata": {
    "collapsed": false,
    "ExecuteTime": {
     "end_time": "2024-07-11T03:12:04.627666Z",
     "start_time": "2024-07-11T03:12:04.625105Z"
    }
   },
   "id": "284ae20748d92c57",
   "execution_count": 64
  }
 ],
 "metadata": {
  "kernelspec": {
   "display_name": "Python 3",
   "language": "python",
   "name": "python3"
  },
  "language_info": {
   "codemirror_mode": {
    "name": "ipython",
    "version": 2
   },
   "file_extension": ".py",
   "mimetype": "text/x-python",
   "name": "python",
   "nbconvert_exporter": "python",
   "pygments_lexer": "ipython2",
   "version": "2.7.6"
  }
 },
 "nbformat": 4,
 "nbformat_minor": 5
}
