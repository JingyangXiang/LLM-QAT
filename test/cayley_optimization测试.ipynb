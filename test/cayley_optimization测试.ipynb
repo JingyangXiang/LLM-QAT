{
 "cells": [
  {
   "cell_type": "code",
   "execution_count": 2,
   "id": "initial_id",
   "metadata": {
    "collapsed": true,
    "ExecuteTime": {
     "end_time": "2024-07-10T14:04:34.323289Z",
     "start_time": "2024-07-10T14:04:34.320160Z"
    }
   },
   "outputs": [],
   "source": [
    "import torch\n",
    "import torch.nn as nn\n",
    "\n",
    "from tools.optimizer import CayleyAdamW\n",
    "from timm.optim import AdamW"
   ]
  },
  {
   "cell_type": "code",
   "outputs": [
    {
     "name": "stdout",
     "output_type": "stream",
     "text": [
      "before:  tensor(8.0000)\n",
      "step: 0, loss: 0.74873, diag: 8.00, weight: -0.00810\n",
      "step: 1, loss: 0.51299, diag: 8.00, weight: 0.06390\n",
      "step: 2, loss: 0.53975, diag: 8.00, weight: -0.00789\n",
      "step: 3, loss: 0.46815, diag: 8.00, weight: 0.06190\n",
      "step: 4, loss: 0.47962, diag: 8.00, weight: -0.00760\n",
      "step: 5, loss: 0.45371, diag: 8.00, weight: 0.05872\n",
      "step: 6, loss: 0.45125, diag: 8.00, weight: -0.00553\n",
      "step: 7, loss: 0.43280, diag: 8.00, weight: 0.05745\n",
      "step: 8, loss: 0.43661, diag: 8.00, weight: -0.00538\n",
      "step: 9, loss: 0.41954, diag: 8.00, weight: 0.05531\n",
      "before:  tensor(16.)\n",
      "step: 0, loss: 0.79074, diag: 16.00, weight: 0.06758\n",
      "step: 1, loss: 0.60663, diag: 16.00, weight: 0.08604\n",
      "step: 2, loss: 0.57530, diag: 16.00, weight: 0.07616\n",
      "step: 3, loss: 0.46998, diag: 16.00, weight: 0.08448\n",
      "step: 4, loss: 0.46745, diag: 16.00, weight: 0.07989\n",
      "step: 5, loss: 0.40650, diag: 16.00, weight: 0.08867\n",
      "step: 6, loss: 0.42670, diag: 16.00, weight: 0.08309\n",
      "step: 7, loss: 0.37975, diag: 16.00, weight: 0.08701\n",
      "step: 8, loss: 0.39368, diag: 16.00, weight: 0.08453\n",
      "step: 9, loss: 0.35524, diag: 16.00, weight: 0.08589\n",
      "before:  tensor(32.)\n",
      "step: 0, loss: 0.75817, diag: 32.00, weight: 0.01599\n",
      "step: 1, loss: 0.53788, diag: 32.00, weight: 0.01536\n",
      "step: 2, loss: 0.52233, diag: 32.00, weight: 0.01541\n",
      "step: 3, loss: 0.39468, diag: 32.00, weight: 0.01467\n",
      "step: 4, loss: 0.41671, diag: 32.00, weight: 0.01448\n",
      "step: 5, loss: 0.34306, diag: 32.00, weight: 0.01413\n",
      "step: 6, loss: 0.36118, diag: 32.00, weight: 0.01389\n",
      "step: 7, loss: 0.29805, diag: 32.00, weight: 0.01408\n",
      "step: 8, loss: 0.33063, diag: 32.00, weight: 0.01358\n",
      "step: 9, loss: 0.26697, diag: 32.00, weight: 0.01393\n",
      "before:  tensor(64.)\n",
      "step: 0, loss: 0.70835, diag: 64.00, weight: -0.06090\n",
      "step: 1, loss: 0.50155, diag: 64.00, weight: -0.06314\n",
      "step: 2, loss: 0.50020, diag: 64.00, weight: -0.06222\n",
      "step: 3, loss: 0.37020, diag: 64.00, weight: -0.06399\n",
      "step: 4, loss: 0.40841, diag: 64.00, weight: -0.06294\n",
      "step: 5, loss: 0.30648, diag: 64.00, weight: -0.06451\n",
      "step: 6, loss: 0.35551, diag: 64.00, weight: -0.06354\n",
      "step: 7, loss: 0.27201, diag: 64.00, weight: -0.06489\n",
      "step: 8, loss: 0.32114, diag: 64.00, weight: -0.06409\n",
      "step: 9, loss: 0.24721, diag: 64.00, weight: -0.06531\n"
     ]
    }
   ],
   "source": [
    "   # 优化器测试，暂时没发现致命的问题\n",
    "in_channels = [16, 32, 64, 128]\n",
    "for in_channel in in_channels:\n",
    "    batch_size = 4\n",
    "    output_channel = in_channel // 2\n",
    "    model1 = nn.Linear(in_channel, output_channel, bias=False)\n",
    "    torch.nn.init.orthogonal_(model1.weight)\n",
    "    with torch.inference_mode():\n",
    "        print(\"before: \", torch.diag(model1.weight @ model1.weight.t()).sum())\n",
    "    optim1 = CayleyAdamW(model1.parameters(), lr=1)\n",
    "    data1 = torch.randn(batch_size, in_channel)\n",
    "    for i in range(10):\n",
    "        optim1.zero_grad()\n",
    "        output = (model1(data1).abs()).mean()\n",
    "        output.backward()\n",
    "        optim1.step()\n",
    "        with torch.no_grad():\n",
    "            print(f\"step: {i}, loss: {output.item():.5f}, \"\n",
    "                  f\"diag: {torch.diag(model1.weight @ model1.weight.t()).sum().item():.2f}, \"\n",
    "                  f\"weight: {torch.mean(model1.weight.flatten()[:6]):.5f}\")"
   ],
   "metadata": {
    "collapsed": false,
    "ExecuteTime": {
     "end_time": "2024-07-10T14:12:44.026709Z",
     "start_time": "2024-07-10T14:12:43.988480Z"
    }
   },
   "id": "1b67aefefbbd30bf",
   "execution_count": 13
  },
  {
   "cell_type": "code",
   "outputs": [],
   "source": [],
   "metadata": {
    "collapsed": false
   },
   "id": "20026075fd8c2647"
  }
 ],
 "metadata": {
  "kernelspec": {
   "display_name": "Python 3",
   "language": "python",
   "name": "python3"
  },
  "language_info": {
   "codemirror_mode": {
    "name": "ipython",
    "version": 2
   },
   "file_extension": ".py",
   "mimetype": "text/x-python",
   "name": "python",
   "nbconvert_exporter": "python",
   "pygments_lexer": "ipython2",
   "version": "2.7.6"
  }
 },
 "nbformat": 4,
 "nbformat_minor": 5
}
